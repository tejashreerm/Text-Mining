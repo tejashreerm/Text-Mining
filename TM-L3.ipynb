{
 "cells": [
  {
   "cell_type": "markdown",
   "metadata": {},
   "source": [
    "# L3: Text clustering and topic modelling"
   ]
  },
  {
   "cell_type": "markdown",
   "metadata": {},
   "source": [
    "Text clustering groups documents in such a way that documents within a group are more &lsquo;similar&rsquo; to other documents in the cluster than to documents not in the cluster. The exact definition of what &lsquo;similar&rsquo; means in this context varies across applications and clustering algorithms.\n",
    "\n",
    "In this lab you will experiment with both hard and soft clustering techniques. More specifically, in the first part you will be using the $k$-means algorithm, and in the second part you will be using a topic model based on the Latent Dirichlet Allocation (LDA)."
   ]
  },
  {
   "cell_type": "markdown",
   "metadata": {},
   "source": [
    "## Hard clustering data set"
   ]
  },
  {
   "cell_type": "markdown",
   "metadata": {},
   "source": [
    "The raw data for the hard clustering part of this lab is a collection of product reviews. We have preprocessed the data by tokenization and lowercasing."
   ]
  },
  {
   "cell_type": "code",
   "execution_count": 1,
   "metadata": {},
   "outputs": [],
   "source": [
    "import pandas as pd\n",
    "import bz2\n",
    "\n",
    "with bz2.open(\"reviews.json.bz2\") as source:\n",
    "    df = pd.read_json(source)"
   ]
  },
  {
   "cell_type": "markdown",
   "metadata": {},
   "source": [
    "When you inspect the data frame, you can see that there are three labelled columns: `category` (the product category), `sentiment` (whether the product review was classified as &lsquo;positive&rsquo; or &lsquo;negative&rsquo; towards the product), and `text` (the space-separated text of the review)."
   ]
  },
  {
   "cell_type": "code",
   "execution_count": 6,
   "metadata": {},
   "outputs": [
    {
     "data": {
      "text/html": [
       "<div>\n",
       "<style scoped>\n",
       "    .dataframe tbody tr th:only-of-type {\n",
       "        vertical-align: middle;\n",
       "    }\n",
       "\n",
       "    .dataframe tbody tr th {\n",
       "        vertical-align: top;\n",
       "    }\n",
       "\n",
       "    .dataframe thead th {\n",
       "        text-align: right;\n",
       "    }\n",
       "</style>\n",
       "<table border=\"1\" class=\"dataframe\">\n",
       "  <thead>\n",
       "    <tr style=\"text-align: right;\">\n",
       "      <th></th>\n",
       "      <th>category</th>\n",
       "      <th>sentiment</th>\n",
       "      <th>text</th>\n",
       "    </tr>\n",
       "  </thead>\n",
       "  <tbody>\n",
       "    <tr>\n",
       "      <th>0</th>\n",
       "      <td>music</td>\n",
       "      <td>neg</td>\n",
       "      <td>i bought this album because i loved the title ...</td>\n",
       "    </tr>\n",
       "    <tr>\n",
       "      <th>1</th>\n",
       "      <td>music</td>\n",
       "      <td>neg</td>\n",
       "      <td>i was misled and thought i was buying the enti...</td>\n",
       "    </tr>\n",
       "    <tr>\n",
       "      <th>2</th>\n",
       "      <td>books</td>\n",
       "      <td>neg</td>\n",
       "      <td>i have introduced many of my ell , high school...</td>\n",
       "    </tr>\n",
       "    <tr>\n",
       "      <th>3</th>\n",
       "      <td>books</td>\n",
       "      <td>pos</td>\n",
       "      <td>anything you purchase in the left behind serie...</td>\n",
       "    </tr>\n",
       "    <tr>\n",
       "      <th>4</th>\n",
       "      <td>dvd</td>\n",
       "      <td>pos</td>\n",
       "      <td>i loved these movies , and i cant wiat for the...</td>\n",
       "    </tr>\n",
       "  </tbody>\n",
       "</table>\n",
       "</div>"
      ],
      "text/plain": [
       "  category sentiment                                               text\n",
       "0    music       neg  i bought this album because i loved the title ...\n",
       "1    music       neg  i was misled and thought i was buying the enti...\n",
       "2    books       neg  i have introduced many of my ell , high school...\n",
       "3    books       pos  anything you purchase in the left behind serie...\n",
       "4      dvd       pos  i loved these movies , and i cant wiat for the..."
      ]
     },
     "execution_count": 6,
     "metadata": {},
     "output_type": "execute_result"
    }
   ],
   "source": [
    "df.head()"
   ]
  },
  {
   "cell_type": "markdown",
   "metadata": {},
   "source": [
    "## Problem 1: K-means clustering"
   ]
  },
  {
   "cell_type": "markdown",
   "metadata": {},
   "source": [
    "Your first task is to cluster the product review data using a tf–idf vectorizer and a $k$-means clusterer."
   ]
  },
  {
   "cell_type": "markdown",
   "metadata": {},
   "source": [
    "Start by doing the vectorization. In connection with vectorization, you should also filter out standard English stop words. While you could use [spaCy](https://spacy.io/) for this task, here it suffices to use the word list implemented in [TfidfVectorizer](https://scikit-learn.org/stable/modules/generated/sklearn.feature_extraction.text.TfidfVectorizer.html)."
   ]
  },
  {
   "cell_type": "code",
   "execution_count": 7,
   "metadata": {},
   "outputs": [],
   "source": [
    "# TODO: Enter code here to vectorize the data\n",
    "from sklearn.feature_extraction.text import TfidfVectorizer\n",
    "vectorizer = TfidfVectorizer(stop_words='english')\n",
    "reviews = vectorizer.fit_transform(df[\"text\"])"
   ]
  },
  {
   "cell_type": "markdown",
   "metadata": {},
   "source": [
    "Test your vectorization by running the following code cell:"
   ]
  },
  {
   "cell_type": "code",
   "execution_count": 8,
   "metadata": {},
   "outputs": [
    {
     "data": {
      "text/plain": [
       "(11914, 46619)"
      ]
     },
     "execution_count": 8,
     "metadata": {},
     "output_type": "execute_result"
    }
   ],
   "source": [
    "reviews.shape"
   ]
  },
  {
   "cell_type": "code",
   "execution_count": 10,
   "metadata": {},
   "outputs": [
    {
     "data": {
      "text/plain": [
       "<11914x46619 sparse matrix of type '<class 'numpy.float64'>'\n",
       "\twith 579847 stored elements in Compressed Sparse Row format>"
      ]
     },
     "execution_count": 10,
     "metadata": {},
     "output_type": "execute_result"
    }
   ],
   "source": [
    "reviews"
   ]
  },
  {
   "cell_type": "markdown",
   "metadata": {},
   "source": [
    "If you used the English stop word list from scikit-learn, then the resulting vocabulary should have 46,619 entries."
   ]
  },
  {
   "cell_type": "markdown",
   "metadata": {},
   "source": [
    "Next, cluster the vectorized data. Before doing so, you should read the documentation of the [KMeans](https://scikit-learn.org/stable/modules/generated/sklearn.cluster.KMeans.html) class, which is scikit-learn&rsquo;s implementation of the $k$-means algorithm. As you can see, this class has several parameters that you can tweak. For now, the only parameter that you will have to set is the number of clusters. We recommend that you choose $k=3$.\n",
    "\n",
    "**Tip:** Training $k$-means models will take some time. To speed things up, you can use the `n_init` parameter to control the number of times that the clustering is re-computed with different initial values. The default value for this parameter is 10; here and in the rest of this lab, you may want to set this to a lower value."
   ]
  },
  {
   "cell_type": "code",
   "execution_count": 44,
   "metadata": {},
   "outputs": [],
   "source": [
    "# TODO: Enter code here to cluster the vectorized data\n",
    "from sklearn.cluster import KMeans\n",
    "\n",
    "#for 3 clusters\n",
    "kmeans3 = KMeans(n_clusters=3,n_init=3).fit(reviews)\n",
    "kmeans3labels = kmeans3.labels_"
   ]
  },
  {
   "cell_type": "markdown",
   "metadata": {},
   "source": [
    "To sanity-check your clustering, create a bar plot with the number of documents per cluster."
   ]
  },
  {
   "cell_type": "code",
   "execution_count": 45,
   "metadata": {},
   "outputs": [
    {
     "data": {
      "image/png": "[encoded data removed]",
      "text/plain": [
       "<Figure size 432x288 with 1 Axes>"
      ]
     },
     "metadata": {
      "needs_background": "light"
     },
     "output_type": "display_data"
    }
   ],
   "source": [
    "# TODO: Enter code here to produce a bar plot of the cluster size\n",
    "import matplotlib.pyplot as plt\n",
    "from collections import Counter\n",
    "import numpy as np\n",
    "\n",
    "labels, values = zip(*Counter(kmeans3labels).items())\n",
    "\n",
    "indexes = np.arange(len(labels))\n",
    "width = 0.5\n",
    "\n",
    "plt.bar(indexes, values, width)\n",
    "plt.xticks(indexes , labels)\n",
    "plt.show()"
   ]
  },
  {
   "cell_type": "markdown",
   "metadata": {},
   "source": [
    "Note that sizes may vary considerable between clusters and among different random seeds."
   ]
  },
  {
   "cell_type": "markdown",
   "metadata": {},
   "source": [
    "## Problem 2: Summarize clusters"
   ]
  },
  {
   "cell_type": "markdown",
   "metadata": {},
   "source": [
    "Once you have a clustering, you can try to see whether it is meaningful. One useful technique in that context is to generate a **summary** for each cluster by extracting the $n$ highest-weighted terms from the centroid of each cluster. Your next task is to implement this approach.\n",
    "\n",
    "**Hint:** You will need to construct an &lsquo;inverted vocabulary&rsquo; that allows you to map from the index of a term back to the original term."
   ]
  },
  {
   "cell_type": "code",
   "execution_count": 46,
   "metadata": {},
   "outputs": [
    {
     "name": "stdout",
     "output_type": "stream",
     "text": [
      "product\n",
      "like\n",
      "great\n",
      "cd\n",
      "just\n",
      "use\n",
      "album\n",
      "good\n",
      "time\n",
      "does\n"
     ]
    }
   ],
   "source": [
    "# TODO: Enter code here to compute the cluster summaries and print them\n",
    "centroids = kmeans3.cluster_centers_\n",
    "#Cluster 0\n",
    "indexCentroid0 = (-centroids[0]).argsort()[:10]\n",
    "for i in indexCentroid0:\n",
    "    print (vectorizer.get_feature_names()[i])"
   ]
  },
  {
   "cell_type": "code",
   "execution_count": 47,
   "metadata": {},
   "outputs": [
    {
     "name": "stdout",
     "output_type": "stream",
     "text": [
      "book\n",
      "movie\n",
      "quot\n",
      "film\n",
      "read\n",
      "story\n",
      "like\n",
      "just\n",
      "good\n",
      "great\n"
     ]
    }
   ],
   "source": [
    "#Cluster 1\n",
    "indexCentroid1 = (-centroids[1]).argsort()[:10]\n",
    "for i in indexCentroid1:\n",
    "    print (vectorizer.get_feature_names()[i])"
   ]
  },
  {
   "cell_type": "code",
   "execution_count": 48,
   "metadata": {},
   "outputs": [
    {
     "name": "stdout",
     "output_type": "stream",
     "text": [
      "camera\n",
      "lens\n",
      "pictures\n",
      "canon\n",
      "digital\n",
      "use\n",
      "flash\n",
      "battery\n",
      "quality\n",
      "great\n"
     ]
    }
   ],
   "source": [
    "#Cluster 2\n",
    "indexCentroid2 = (-centroids[2]).argsort()[:10]\n",
    "for i in indexCentroid2:\n",
    "    print (vectorizer.get_feature_names()[i])"
   ]
  },
  {
   "cell_type": "markdown",
   "metadata": {},
   "source": [
    "Once you have computed the cluster summaries, discuss their quality. Is it clear what the reviews in a given cluster are about? Which clusters are clearest? Which are less clear? Do the cluster summaries contain any unexpected terms? What happens if you re-cluster with, say, $k=6$?"
   ]
  },
  {
   "cell_type": "markdown",
   "metadata": {},
   "source": [
    "*TODO: Insert your analysis of the clusters here*\n",
    "\n",
    "For k=3 clusters:\n",
    "The last 2 clusters seem to give some clear information about the cluster. The first cluster seems to be less clear. The first cluster contains some unexpected terms like album,cd. \n",
    "For k=6 clusters:\n",
    "The terms seem to define the clusters more clearly. The terms give a good summary of what the clusters are about."
   ]
  },
  {
   "cell_type": "code",
   "execution_count": 31,
   "metadata": {},
   "outputs": [],
   "source": [
    "#for 6 clusters\n",
    "kmeans6 = KMeans(n_clusters=6,n_init=5).fit(reviews)\n",
    "kmeans6labels = kmeans6.labels_\n",
    "centroidsk6 = kmeans6.cluster_centers_"
   ]
  },
  {
   "cell_type": "code",
   "execution_count": 32,
   "metadata": {},
   "outputs": [
    {
     "name": "stdout",
     "output_type": "stream",
     "text": [
      "product\n",
      "use\n",
      "great\n",
      "just\n",
      "like\n",
      "good\n",
      "does\n",
      "software\n",
      "time\n",
      "work\n"
     ]
    }
   ],
   "source": [
    "#Cluster 0\n",
    "indexCentroid0k6 = (-centroidsk6[0]).argsort()[:10]\n",
    "for i in indexCentroid0k6:\n",
    "    print (vectorizer.get_feature_names()[i])"
   ]
  },
  {
   "cell_type": "code",
   "execution_count": 33,
   "metadata": {},
   "outputs": [
    {
     "name": "stdout",
     "output_type": "stream",
     "text": [
      "movie\n",
      "film\n",
      "movies\n",
      "like\n",
      "story\n",
      "watch\n",
      "just\n",
      "good\n",
      "great\n",
      "acting\n"
     ]
    }
   ],
   "source": [
    "#Cluster 1\n",
    "indexCentroid1k6 = (-centroidsk6[1]).argsort()[:10]\n",
    "for i in indexCentroid1k6:\n",
    "    print (vectorizer.get_feature_names()[i])"
   ]
  },
  {
   "cell_type": "code",
   "execution_count": 34,
   "metadata": {},
   "outputs": [
    {
     "name": "stdout",
     "output_type": "stream",
     "text": [
      "camera\n",
      "lens\n",
      "pictures\n",
      "canon\n",
      "digital\n",
      "use\n",
      "flash\n",
      "battery\n",
      "quality\n",
      "great\n"
     ]
    }
   ],
   "source": [
    "#Cluster 2\n",
    "indexCentroid2k6 = (-centroidsk6[2]).argsort()[:10]\n",
    "for i in indexCentroid2k6:\n",
    "    print (vectorizer.get_feature_names()[i])"
   ]
  },
  {
   "cell_type": "code",
   "execution_count": 35,
   "metadata": {},
   "outputs": [
    {
     "name": "stdout",
     "output_type": "stream",
     "text": [
      "book\n",
      "read\n",
      "books\n",
      "author\n",
      "reading\n",
      "story\n",
      "like\n",
      "just\n",
      "written\n",
      "good\n"
     ]
    }
   ],
   "source": [
    "#Cluster 3\n",
    "indexCentroid3k6 = (-centroidsk6[3]).argsort()[:10]\n",
    "for i in indexCentroid3k6:\n",
    "    print (vectorizer.get_feature_names()[i])"
   ]
  },
  {
   "cell_type": "code",
   "execution_count": 36,
   "metadata": {},
   "outputs": [
    {
     "name": "stdout",
     "output_type": "stream",
     "text": [
      "album\n",
      "cd\n",
      "music\n",
      "songs\n",
      "song\n",
      "like\n",
      "just\n",
      "great\n",
      "band\n",
      "good\n"
     ]
    }
   ],
   "source": [
    "#Cluster 4\n",
    "indexCentroid4k6 = (-centroidsk6[4]).argsort()[:10]\n",
    "for i in indexCentroid4k6:\n",
    "    print (vectorizer.get_feature_names()[i])"
   ]
  },
  {
   "cell_type": "code",
   "execution_count": 37,
   "metadata": {},
   "outputs": [
    {
     "name": "stdout",
     "output_type": "stream",
     "text": [
      "quot\n",
      "book\n",
      "cd\n",
      "album\n",
      "music\n",
      "just\n",
      "like\n",
      "song\n",
      "best\n",
      "great\n"
     ]
    }
   ],
   "source": [
    "#Cluster 5\n",
    "indexCentroid5k6 = (-centroidsk6[5]).argsort()[:10]\n",
    "for i in indexCentroid5k6:\n",
    "    print (vectorizer.get_feature_names()[i])"
   ]
  },
  {
   "cell_type": "markdown",
   "metadata": {},
   "source": [
    "## Problem 3: Tune the k-means algorithm"
   ]
  },
  {
   "cell_type": "markdown",
   "metadata": {},
   "source": [
    "A major limitation of the $k$-means algorithm is that one has to manually set the value for $k$, the number of clusters. One heuristic that can help you with this is the [Elbow method](https://en.wikipedia.org/wiki/Elbow_method_(clustering)). Your next task is to implement this method to see whether it allows you to find a better value for $k$.\n",
    "\n",
    "To follow the elbow method, you should plot different values of $k$ against the **inertia** (sums of squared distances between documents and closest centroids) of the fitted $k$-means model, and pick the $k$ at the &lsquo;elbow point&rsquo; of the resulting graph. Test cluster sizes between 1 and 9.\n",
    "\n",
    "**Note that this will take a while.**"
   ]
  },
  {
   "cell_type": "code",
   "execution_count": 38,
   "metadata": {},
   "outputs": [],
   "source": [
    "# TODO: Enter code here to generate the plot for the elbow method\n",
    "inertialist = []\n",
    "kmeanslabels = []\n",
    "for x in range(1,10):\n",
    "    kmeans = KMeans(n_clusters=x,n_init=10).fit(reviews)\n",
    "    kmeanslabel = kmeans.labels_\n",
    "    kmeanslabels.append(kmeanslabel)\n",
    "    inertias = kmeans.inertia_\n",
    "    inertialist.append(inertias)"
   ]
  },
  {
   "cell_type": "code",
   "execution_count": 39,
   "metadata": {},
   "outputs": [
    {
     "data": {
      "text/plain": [
       "<function matplotlib.pyplot.show(*args, **kw)>"
      ]
     },
     "execution_count": 39,
     "metadata": {},
     "output_type": "execute_result"
    },
    {
     "data": {
      "image/png": "[encoded data removed]",
      "text/plain": [
       "<Figure size 432x288 with 1 Axes>"
      ]
     },
     "metadata": {
      "needs_background": "light"
     },
     "output_type": "display_data"
    }
   ],
   "source": [
    "import matplotlib.pyplot as plt\n",
    "#Elbow method\n",
    "plt.plot(range(1,10),inertialist,'-o')\n",
    "plt.show"
   ]
  },
  {
   "cell_type": "markdown",
   "metadata": {},
   "source": [
    "Once you have the diagram, can you see a pronounced &lsquo;elbow point&rsquo;? Discuss your findings in a short text."
   ]
  },
  {
   "cell_type": "markdown",
   "metadata": {},
   "source": [
    "*TODO: Insert your discussion of the elbow method here*\n",
    "\n",
    "There seems to appear a very small elbow point for k=6 i.e. when the whole data is divided into 6 clusters. This means that the sum of distances from each vector to its nearest centroid vector is lowest when the whole data is clustered into 6 clusters. This can be cross-verified by checking the actual number of clusters(unique categories) or gold-standard class labels that is available in the given data."
   ]
  },
  {
   "cell_type": "markdown",
   "metadata": {},
   "source": [
    "## Problem 4: Compare clusterings using the Rand index"
   ]
  },
  {
   "cell_type": "markdown",
   "metadata": {},
   "source": [
    "In some scenarios, you may have gold-standard class labels available for at least a subset of your documents. In these cases you can compute the **Rand index** of a clustering, and use this measure to compare the quality of different clusterings.\n",
    "\n",
    "To compute the Rand index, we view a clustering as a binary classifier on pairs of documents. The classifier predicts &lsquo;positive&rsquo; if and only if the two documents belong to the same cluster. The (non-normalized) Rand index of the clustering is the accuracy of this classifier relative to a reference in which a document pair belongs to the &lsquo;positive&rsquo; class if and only if the two documents in the pair have the same gold-standard class label.\n",
    "\n",
    "Compare a clustering with $k=3$ clusters to a second clustering with $k=6$ clusters. As your evaluation data, use the first 500 documents from the original data set along with their gold-standard categories (from the `category` column). What do you observe? How do you interpret your observations? What arguments can you find against the Rand index as a measure for comparing clusterings?"
   ]
  },
  {
   "cell_type": "code",
   "execution_count": 186,
   "metadata": {},
   "outputs": [],
   "source": [
    "# TODO: Enter code here to compute the Rand indices for the two clusterings\n",
    "from sklearn.metrics.cluster import adjusted_rand_score\n",
    "import numpy as np\n",
    "\n",
    "#gold-standard labels\n",
    "dfcategory = df[\"category\"][:500]\n",
    "d = dict([(y,x) for x,y in enumerate(sorted(set(dfcategory)))]) #map unique cluster labels to numbers\n",
    "goldstdlabels500 = np.asarray([d[x] for x in dfcategory]) #first 500 gold-standard class labels"
   ]
  },
  {
   "cell_type": "code",
   "execution_count": 187,
   "metadata": {},
   "outputs": [
    {
     "data": {
      "text/plain": [
       "0.08399448637656193"
      ]
     },
     "execution_count": 187,
     "metadata": {},
     "output_type": "execute_result"
    }
   ],
   "source": [
    "#clustering with k=3\n",
    "predlabelk3 = kmeans3labels[:500] #firsts 500 predicted class labels from fitted k-means model from problem 1\n",
    "ri_3 = adjusted_rand_score(goldstdlabels500,predlabelk3)\n",
    "ri_3 #rand index"
   ]
  },
  {
   "cell_type": "code",
   "execution_count": 188,
   "metadata": {},
   "outputs": [
    {
     "data": {
      "text/plain": [
       "0.22766052146678806"
      ]
     },
     "execution_count": 188,
     "metadata": {},
     "output_type": "execute_result"
    }
   ],
   "source": [
    "#clustering with k=6\n",
    "predlabelk6 = kmeanslabels[5][:500] #firsts 500 predicted class labels from fitted k-means model from problem 3\n",
    "ri_6 = adjusted_rand_score(goldstdlabels500,predlabelk6)\n",
    "ri_6 #rand index"
   ]
  },
  {
   "cell_type": "markdown",
   "metadata": {},
   "source": [
    "*TODO: Insert your discussion of your results here*\n",
    "\n",
    "For k=3:\n",
    "The Rand index for clustering where k=3 was observed to be 0.084 which is pretty low since the actual number of clusters is 6 but 3 clusters are considered here so the probability of more pairs of data points not being classified as one class is very high. The numerator in the Rand index is the sum of true positives and true negatives. The denomenator is the sum of all possible outcomes of a confusion matrix. Here the denomenator is verz high compared to the numerator hence leading to verz low Rand index. \n",
    "For k=6:\n",
    "The Rand index for clustering where k=6 was observed to be 0.227 which is higher than that of k=3 since the actual number of clusters is 6 itself. When the number of clusters are the same in the given data and the fitted model, the probability of a pair of data points being classified as one class is higher. Due to the increase in the count of True positives and true negatives there is an increase in Rand index."
   ]
  },
  {
   "cell_type": "markdown",
   "metadata": {},
   "source": [
    "## Topic modelling data set"
   ]
  },
  {
   "cell_type": "markdown",
   "metadata": {},
   "source": [
    "The data set for the topic modelling part of this lab is the collection of all [State of the Union](https://en.wikipedia.org/wiki/State_of_the_Union) addresses from the years 1975–2000. These speeches come as a single text file with one sentence per line. The following code cell prints the first 5 lines from the data file:"
   ]
  },
  {
   "cell_type": "code",
   "execution_count": 79,
   "metadata": {},
   "outputs": [
    {
     "name": "stdout",
     "output_type": "stream",
     "text": [
      "mr speaker mr vice president members of the 94th congress and distinguished guests\n",
      "twenty six years ago a freshman congressman a young fellow with lots of idealism who was out to change the world stood before sam rayburn in the well of the house and solemnly swore to the same oath that all of you took yesterday an unforgettable experience and i congratulate you all\n",
      "two days later that same freshman stood at the back of this great chamber over there someplace as president truman all charged up by his single handed election victory reported as the constitution requires on the state of the union\n",
      "when the bipartisan applause stopped president truman said i am happy to report to this 81st congress that the state of the union is good our nation is better able than ever before to meet the needs of the american people and to give them their fair chance in the pursuit of happiness it is foremost among the nations of the world in the search for peace\n",
      "today that freshman member from michigan stands where mr truman stood and i must say to you that the state of the union is not good\n",
      "millions of americans are out of work\n"
     ]
    }
   ],
   "source": [
    "with open(\"sotu_1975_2000.txt\") as source:\n",
    "    for i, line in enumerate(source):\n",
    "        print(line.rstrip())\n",
    "        if i >= 5:\n",
    "            break"
   ]
  },
  {
   "cell_type": "markdown",
   "metadata": {},
   "source": [
    "## Problem 5: Train a topic model"
   ]
  },
  {
   "cell_type": "markdown",
   "metadata": {},
   "source": [
    "Your first task on the topic modelling data is to train an LDA model. For this task you will be using [spaCy](https://spacy.io/) and the [gensim](https://radimrehurek.com/gensim/) topic modelling library.\n",
    "\n",
    "Start by preprocessing the data using spaCy. Given that the data set for this problem is rather small, you do not have to exclude any components from the standard pipeline. Filter out stop words, non-alphabetic tokens, and tokens less than 3 characters in length. Store the documents as a nested list where the first level of nesting corresponds to the sentences and the second level corresponds to the tokens in each sentence."
   ]
  },
  {
   "cell_type": "code",
   "execution_count": 236,
   "metadata": {},
   "outputs": [],
   "source": [
    "# TODO: Replace the following lines with your own code for preprocessing the documents\n",
    "\n",
    "#import spacy\n",
    "#nlp = spacy.load(\"en_core_web_sm\", disable=[\"tagger\",\"parser\"])\n",
    "\n",
    "#with open(\"sotu_1975_2000.txt\") as source:\n",
    "#    documents = []\n",
    "#    lines = []\n",
    "#    i = 0\n",
    "#    for line in source:\n",
    "#        line_strings = line.split()\n",
    "#        line_string = [element for element in line_strings]\n",
    "#        for token in nlp(str(line_string)):   \n",
    "#            if token.text.isalpha and len(token)>=3 and token.is_stop is False :\n",
    "#                lines.append(token.lower_)\n",
    "#        documents.insert(i,lines)\n",
    "#        #documents[i] = lines\n",
    "#        i += 1"
   ]
  },
  {
   "cell_type": "code",
   "execution_count": 247,
   "metadata": {},
   "outputs": [],
   "source": [
    "with open(\"sotu_1975_2000.txt\") as source:\n",
    "    documents = [line.split() for line in source]\n",
    "    \n",
    "import spacy\n",
    "nlp = spacy.load(\"en_core_web_sm\", disable=[\"tagger\",\"parser\"])\n",
    "\n",
    "for i in range(len(documents)):\n",
    "    lines = []\n",
    "    document = nlp(str(documents[i]))\n",
    "    for token in document:\n",
    "        if token.is_stop is False and token.text.isalpha() and len(token)>=3:\n",
    "            lines.append(token.lower_)\n",
    "    documents[i] = lines  "
   ]
  },
  {
   "cell_type": "markdown",
   "metadata": {},
   "source": [
    "Test your preprocessing by running the following cell:"
   ]
  },
  {
   "cell_type": "code",
   "execution_count": 250,
   "metadata": {},
   "outputs": [
    {
     "data": {
      "text/plain": [
       "'reduce oil imports million barrels day end year million barrels day end'"
      ]
     },
     "execution_count": 250,
     "metadata": {},
     "output_type": "execute_result"
    }
   ],
   "source": [
    "\" \".join(documents[42])"
   ]
  },
  {
   "cell_type": "markdown",
   "metadata": {},
   "source": [
    "You should get the following output:"
   ]
  },
  {
   "cell_type": "raw",
   "metadata": {},
   "source": [
    "'reduce oil imports million barrels day end year million barrels day end'"
   ]
  },
  {
   "cell_type": "markdown",
   "metadata": {},
   "source": [
    "Once you have the list of documents, skim the section [Pre-process and vectorize the documents](https://radimrehurek.com/gensim/auto_examples/tutorials/run_lda.html#pre-process-and-vectorize-the-documents) of the gensim documentation to learn how to create the dictionary and the vectorized corpus representation required by gensim. (Note that you cannot use the standard scikit-learn pipeline in this case.) Then, write code to train an [LdaModel](https://radimrehurek.com/gensim/models/ldamodel.html) for $k=10$ topics, and using default values for all other parameters."
   ]
  },
  {
   "cell_type": "code",
   "execution_count": 256,
   "metadata": {},
   "outputs": [],
   "source": [
    "# TODO: Enter code here to train an LDA model\n",
    "import gensim\n",
    "from gensim.corpora import Dictionary\n",
    "\n",
    "docs = documents\n",
    "# Create a dictionary representation of the documents.\n",
    "dictionary = Dictionary(docs)\n",
    "# Bag-of-words representation of the documents.\n",
    "corpus = [dictionary.doc2bow(doc) for doc in docs]"
   ]
  },
  {
   "cell_type": "code",
   "execution_count": 267,
   "metadata": {},
   "outputs": [],
   "source": [
    "from gensim.models import LdaModel\n",
    "\n",
    "# Set training parameters.\n",
    "num_topics = 10\n",
    "eval_every = None # Don't evaluate model perplexity, takes too much time.\n",
    "\n",
    "# Make a index to word dictionary.\n",
    "temp = dictionary[0]  # This is only to \"load\" the dictionary.\n",
    "id2word = dictionary.id2token\n",
    "\n",
    "model = LdaModel(\n",
    "    corpus=corpus,\n",
    "    id2word=id2word,\n",
    "    alpha='auto',\n",
    "    eta='auto',\n",
    "    num_topics=num_topics,\n",
    "    eval_every=eval_every\n",
    ")"
   ]
  },
  {
   "cell_type": "code",
   "execution_count": 268,
   "metadata": {},
   "outputs": [
    {
     "data": {
      "text/plain": [
       "[(0,\n",
       "  '0.016*\"america\" + 0.007*\"states\" + 0.007*\"new\" + 0.007*\"ask\" + 0.006*\"year\" + 0.006*\"united\" + 0.005*\"peace\" + 0.005*\"nuclear\" + 0.005*\"congress\" + 0.005*\"covenant\"'),\n",
       " (1,\n",
       "  '0.012*\"years\" + 0.012*\"america\" + 0.012*\"world\" + 0.011*\"year\" + 0.011*\"new\" + 0.008*\"nation\" + 0.007*\"congress\" + 0.006*\"people\" + 0.006*\"century\" + 0.006*\"budget\"'),\n",
       " (2,\n",
       "  '0.012*\"new\" + 0.011*\"years\" + 0.009*\"work\" + 0.009*\"congress\" + 0.009*\"americans\" + 0.008*\"people\" + 0.008*\"america\" + 0.007*\"american\" + 0.007*\"government\" + 0.006*\"welfare\"'),\n",
       " (3,\n",
       "  '0.017*\"tax\" + 0.010*\"people\" + 0.009*\"help\" + 0.009*\"new\" + 0.008*\"need\" + 0.007*\"congress\" + 0.006*\"year\" + 0.006*\"security\" + 0.005*\"billion\" + 0.005*\"hard\"'),\n",
       " (4,\n",
       "  '0.013*\"people\" + 0.010*\"work\" + 0.009*\"let\" + 0.008*\"world\" + 0.007*\"know\" + 0.007*\"americans\" + 0.006*\"new\" + 0.005*\"trade\" + 0.005*\"government\" + 0.005*\"support\"'),\n",
       " (5,\n",
       "  '0.012*\"new\" + 0.012*\"schools\" + 0.011*\"help\" + 0.011*\"teachers\" + 0.008*\"people\" + 0.007*\"america\" + 0.007*\"community\" + 0.007*\"communities\" + 0.006*\"grade\" + 0.006*\"high\"'),\n",
       " (6,\n",
       "  '0.013*\"new\" + 0.010*\"america\" + 0.008*\"world\" + 0.007*\"people\" + 0.007*\"american\" + 0.007*\"year\" + 0.007*\"children\" + 0.007*\"congress\" + 0.005*\"work\" + 0.005*\"years\"'),\n",
       " (7,\n",
       "  '0.012*\"care\" + 0.007*\"security\" + 0.007*\"health\" + 0.006*\"right\" + 0.006*\"government\" + 0.006*\"children\" + 0.006*\"tobacco\" + 0.005*\"know\" + 0.005*\"child\" + 0.005*\"start\"'),\n",
       " (8,\n",
       "  '0.018*\"people\" + 0.011*\"children\" + 0.011*\"america\" + 0.010*\"work\" + 0.009*\"year\" + 0.009*\"american\" + 0.008*\"world\" + 0.008*\"way\" + 0.007*\"years\" + 0.006*\"let\"'),\n",
       " (9,\n",
       "  '0.017*\"children\" + 0.012*\"work\" + 0.011*\"parents\" + 0.011*\"americans\" + 0.010*\"america\" + 0.009*\"year\" + 0.008*\"thank\" + 0.008*\"health\" + 0.007*\"child\" + 0.006*\"century\"')]"
      ]
     },
     "execution_count": 268,
     "metadata": {},
     "output_type": "execute_result"
    }
   ],
   "source": [
    "model.print_topics()"
   ]
  },
  {
   "cell_type": "markdown",
   "metadata": {},
   "source": [
    "Inspect the topics. Do they make sense? Can you &lsquo;label&rsquo; each topic with a short description of what it is about? Do the topics contain any unexpected terms? Summarize your discussion in a short text."
   ]
  },
  {
   "cell_type": "markdown",
   "metadata": {},
   "source": [
    "*TODO: Insert your discussion of the topics here*\n",
    "Not all topic makes sense. Though we get the most important words it does not say what the topic is about in detail or completely.\n",
    "Topic 0: Talks something related to Nuclear weapons or Nuclear deals and maintaining peace through nuclear deals\n",
    "Topic 1: Talks something about the budget in the country and its effect on people\n",
    "Topic 2: Talks something about the welfare of people\n",
    "Topic 3: Talks something about the taxes in the country and the security of its people\n",
    "Topic 4: Talks something about the government's new trade rules \n",
    "Topic 5: Talks something about schools for cummnities and how it helps people\n",
    "Topic 6: Talks something about children but is not clear\n",
    "Topic 7: Talks about child health, security\n",
    "Topic 8: Not clear what the topic is about\n",
    "Topic 9: Talks about children health and parents"
   ]
  },
  {
   "cell_type": "markdown",
   "metadata": {},
   "source": [
    "## Problem 6: Monitoring a topic model for convergence"
   ]
  },
  {
   "cell_type": "markdown",
   "metadata": {},
   "source": [
    "When learning an LDA model, it is important to make sure that the training algorithm has converged to a stable posterior distribution. One way to do so is to plot, after each training epochs(or &lsquo;pass&rsquo;, in gensim parlance) the log likelihood of the training data under the posterior. Your last task in this lab is to create such a plot and, based on this, to suggest an appropriate number of epochs.\n",
    "\n",
    "To collect information about the posterior likelihood after each pass, we need to enable the logging facilities of gensim. Once this is done, gensim will add various diagnostics to a log file `gensim.log`."
   ]
  },
  {
   "cell_type": "code",
   "execution_count": 269,
   "metadata": {},
   "outputs": [],
   "source": [
    "import logging\n",
    "\n",
    "logging.basicConfig(filename=\"gensim.log\", format=\"%(asctime)s:%(levelname)s:%(message)s\", level=logging.INFO)"
   ]
  },
  {
   "cell_type": "markdown",
   "metadata": {},
   "source": [
    "The following function will parse the generated logfile and return the list of log likelihoods."
   ]
  },
  {
   "cell_type": "code",
   "execution_count": 270,
   "metadata": {},
   "outputs": [],
   "source": [
    "import re\n",
    "\n",
    "def parse_logfile():\n",
    "    matcher = re.compile(\"(-*\\d+\\.\\d+) per-word .* (\\d+\\.\\d+) perplexity\")\n",
    "    likelihoods = []\n",
    "    with open(\"gensim.log\") as source:\n",
    "        for line in source:\n",
    "            match = matcher.search(line)\n",
    "            if match:\n",
    "                likelihoods.append(float(match.group(1)))\n",
    "    return likelihoods"
   ]
  },
  {
   "cell_type": "code",
   "execution_count": null,
   "metadata": {},
   "outputs": [],
   "source": [
    "# TODO: Enter code here to generate the convergence plot\n",
    "\n",
    "model = LdaModel(\n",
    "    corpus=corpus,\n",
    "    id2word=id2word,\n",
    "    alpha='auto',\n",
    "    eta='auto',\n",
    "    num_topics=10,\n",
    "    passes = 50,\n",
    "    eval_every=1\n",
    ")"
   ]
  },
  {
   "cell_type": "code",
   "execution_count": 303,
   "metadata": {},
   "outputs": [
    {
     "data": {
      "text/plain": [
       "[<matplotlib.lines.Line2D at 0x21504c354a8>]"
      ]
     },
     "execution_count": 303,
     "metadata": {},
     "output_type": "execute_result"
    },
    {
     "data": {
      "image/png": "[encoded data removed]",
      "text/plain": [
       "<Figure size 432x288 with 1 Axes>"
      ]
     },
     "metadata": {
      "needs_background": "light"
     },
     "output_type": "display_data"
    }
   ],
   "source": [
    "import matplotlib.pyplot as plt\n",
    "\n",
    "plt.plot(parse_logfile())"
   ]
  },
  {
   "cell_type": "markdown",
   "metadata": {},
   "source": [
    "Your task now is to re-train your LDA model for 50&nbsp;passes, retrieve the list of log likelihoods, and create a plot from this data."
   ]
  },
  {
   "cell_type": "markdown",
   "metadata": {},
   "source": [
    "How do you interpret your plot? What would be a reasonable choice for the number of passes? Retrain your LDA model with that number and re-inspect the topics it finds. Do you consider the new topics to be &lsquo;better&rsquo; than the ones that you got from the 1-pass model in Problem&nbsp;5?"
   ]
  },
  {
   "cell_type": "markdown",
   "metadata": {},
   "source": [
    "*TODO: Insert your discussion of these questions here*\n",
    "\n",
    "The log liklihood increases with the increase in passes and the plot seems to converge after roughly 30 passes i.e. the log liklihood remains constant after 30 passes. 30 would be the reasonable choice for the number of passes.\n",
    "\n",
    "The new topics generated by the LDA model which is trained using 30 passes seems to be better than 1-pass model in Problem 5 since the topics generated give a much clear picture of the context and does not include non informative words like before."
   ]
  },
  {
   "cell_type": "code",
   "execution_count": 308,
   "metadata": {},
   "outputs": [],
   "source": [
    "# retraining LDA model with 30 passes\n",
    "model_30 = LdaModel(\n",
    "    corpus=corpus,\n",
    "    id2word=id2word,\n",
    "    alpha='auto',\n",
    "    eta='auto',\n",
    "    num_topics=10,\n",
    "    passes = 30,\n",
    "    eval_every=1\n",
    ")"
   ]
  },
  {
   "cell_type": "code",
   "execution_count": 309,
   "metadata": {},
   "outputs": [
    {
     "data": {
      "text/plain": [
       "[(0,\n",
       "  '0.017*\"tax\" + 0.014*\"years\" + 0.014*\"year\" + 0.014*\"budget\" + 0.014*\"health\" + 0.013*\"care\" + 0.009*\"million\" + 0.009*\"new\" + 0.009*\"jobs\" + 0.009*\"families\"'),\n",
       " (1,\n",
       "  '0.016*\"people\" + 0.014*\"work\" + 0.013*\"america\" + 0.011*\"children\" + 0.010*\"let\" + 0.009*\"know\" + 0.009*\"americans\" + 0.008*\"congress\" + 0.008*\"american\" + 0.008*\"help\"'),\n",
       " (2,\n",
       "  '0.012*\"drugs\" + 0.009*\"children\" + 0.008*\"people\" + 0.008*\"war\" + 0.007*\"drug\" + 0.006*\"bosnia\" + 0.005*\"arms\" + 0.005*\"congress\" + 0.005*\"weapons\" + 0.004*\"help\"'),\n",
       " (3,\n",
       "  '0.039*\"world\" + 0.032*\"america\" + 0.017*\"new\" + 0.015*\"peace\" + 0.015*\"freedom\" + 0.014*\"economy\" + 0.013*\"nation\" + 0.012*\"american\" + 0.011*\"trade\" + 0.010*\"people\"'),\n",
       " (4,\n",
       "  '0.014*\"government\" + 0.013*\"federal\" + 0.009*\"house\" + 0.008*\"education\" + 0.008*\"administration\" + 0.008*\"business\" + 0.007*\"senate\" + 0.006*\"majority\" + 0.006*\"reform\" + 0.006*\"minority\"'),\n",
       " (5,\n",
       "  '0.011*\"federal\" + 0.010*\"administration\" + 0.009*\"national\" + 0.008*\"government\" + 0.008*\"congress\" + 0.008*\"year\" + 0.006*\"programs\" + 0.006*\"program\" + 0.006*\"new\" + 0.005*\"environment\"'),\n",
       " (6,\n",
       "  '0.012*\"energy\" + 0.011*\"states\" + 0.011*\"soviet\" + 0.011*\"nuclear\" + 0.010*\"united\" + 0.009*\"nations\" + 0.009*\"peace\" + 0.008*\"international\" + 0.007*\"policy\" + 0.007*\"world\"'),\n",
       " (7,\n",
       "  '0.031*\"crime\" + 0.010*\"gun\" + 0.009*\"china\" + 0.008*\"laws\" + 0.008*\"violent\" + 0.008*\"rate\" + 0.007*\"criminals\" + 0.006*\"guns\" + 0.006*\"federal\" + 0.005*\"police\"'),\n",
       " (8,\n",
       "  '0.016*\"new\" + 0.011*\"rural\" + 0.009*\"economic\" + 0.008*\"immigrants\" + 0.007*\"development\" + 0.006*\"areas\" + 0.005*\"space\" + 0.005*\"cities\" + 0.005*\"yesterday\" + 0.005*\"programs\"'),\n",
       " (9,\n",
       "  '0.014*\"defense\" + 0.010*\"security\" + 0.007*\"nuclear\" + 0.007*\"scientists\" + 0.007*\"china\" + 0.006*\"missile\" + 0.006*\"technology\" + 0.005*\"world\" + 0.005*\"missiles\" + 0.005*\"science\"')]"
      ]
     },
     "execution_count": 309,
     "metadata": {},
     "output_type": "execute_result"
    }
   ],
   "source": [
    "model_30.print_topics()"
   ]
  },
  {
   "cell_type": "markdown",
   "metadata": {},
   "source": [
    "<div class=\"alert alert-info\">\n",
    "    Please read the section ‘General information’ on the ‘Labs’ page of the course website before submitting this notebook!\n",
    "</div>"
   ]
  }
 ],
 "metadata": {
  "kernelspec": {
   "display_name": "Python 3",
   "language": "python",
   "name": "python3"
  },
  "language_info": {
   "codemirror_mode": {
    "name": "ipython",
    "version": 3
   },
   "file_extension": ".py",
   "mimetype": "text/x-python",
   "name": "python",
   "nbconvert_exporter": "python",
   "pygments_lexer": "ipython3",
   "version": "3.7.3"
  }
 },
 "nbformat": 4,
 "nbformat_minor": 2
}

